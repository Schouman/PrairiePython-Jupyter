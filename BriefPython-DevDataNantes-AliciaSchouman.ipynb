{
 "cells": [
  {
   "cell_type": "markdown",
   "metadata": {
    "raw_mimetype": "text/markdown"
   },
   "source": [
    "# Découvrez Jupyter\n",
    "\n",
    "## [Veille] Expliquez moi ce qu’est pour vous Jupyter en Markdown en créant une nouvelle cellule dessous en quelques lignes\n"
   ]
  },
  {
   "cell_type": "markdown",
   "metadata": {},
   "source": [
    "Essayez d'ajouter une autre ligne de code dans la cellule ci-dessus et de la relancer.\n",
    "\n",
    "Maintenant : ajoutez une nouvelle cellule de code en cliquant sur +  et déplacez là avec les flèches\n",
    "\n"
   ]
  },
  {
   "cell_type": "code",
   "execution_count": 1,
   "metadata": {},
   "outputs": [
    {
     "data": {
      "text/plain": [
       "4"
      ]
     },
     "execution_count": 1,
     "metadata": {},
     "output_type": "execute_result"
    }
   ],
   "source": [
    "2+2"
   ]
  },
  {
   "cell_type": "markdown",
   "metadata": {},
   "source": [
    "Jupyter sert a créer des notesbooks.\n",
    "La cellule est l'élément de base de Jupyter. Elle peut contenir du texte formaté au format Markdown ou du code informatique qui pourra être exécuté avec la commande shift+entrée. "
   ]
  },
  {
   "cell_type": "markdown",
   "metadata": {},
   "source": [
    "*https://python.sdv.univ-paris-diderot.fr/18_jupyter/*\n",
    "*https://fr.wikipedia.org/wiki/Jupyter*\n",
    "*https://www.developpez.com/actu/189299/L-environnement-de-developpement-web-JupyterLab-pour-creer-des-notebooks-est-disponible-en-version-beta-avec-la-possibilite-d-ajouter-des-extensions/*"
   ]
  },
  {
   "cell_type": "markdown",
   "metadata": {},
   "source": [
    "# Découvrez Python\n",
    "\n",
    "## [Veille] Qu’est-ce que Python ? Créez une réponse ci-dessous dans une nouvelle cellule\n"
   ]
  },
  {
   "cell_type": "markdown",
   "metadata": {},
   "source": [
    "## Caractéristiques\n",
    "\n",
    "c'est un langage de programmation open source, interprété, c'est à dire que les instructions qu'on lui envoi sont transcrite directement en langage machine. Contrairement aux langages compilés. \n",
    "\n",
    "c'est aussi un langage qui utilise la programmation orientée objet (POO). Contrairement aux \"représentation procédurales\" qui séparent le traitement de données des données elles mêmes. C'est à dire que les données sont d'un coté et de l'autre les instructions qui viennent modifier les données. Le POO permet de faire un ensemble d'objet qui interagissent entre eux. Chaque information est manipulable comme objet. \n",
    "\n",
    "\n",
    "Python est aussi un langage à typage fort, il garantit que les types de données employés décrivent correctement les données manipulées (par exemple la fonction type() renseigne de quelle type est la variable... integer/float/...).\n",
    "\n",
    "## Design pattern\n",
    "C'est un langage qui est plus \"simplifié\" et concis dans sa synatxe, il n'utilise pas d'accolades ou d'autres délimiteurs, mais l'indentation.\n",
    "\n",
    "il existe une liste de 19 principes qui \"guident\" le design du langage python, c'est le principe du zen python. Cela permet d'avoir un langage lisible et concis. \n",
    "\n",
    "## principals utilisations\n",
    "\n",
    "Pyhton a une très grande diversité d'application mais aussi grâce à ses bibliothèques spécialisées.\n",
    "\n",
    "     la programmation d’applications \n",
    "     la création de services web\n",
    "     la programmation de scripts pour automatiser les opérations\n",
    "     la métaprogrammation (écriture de programmes qui manipulent des données décrivant elles mêmes des programmes)\n",
    "     \n",
    "     \n",
    "   \n",
    "\n",
    "*http://www.formation-django.fr/python/presentation-ensemble-langage-python.html*\n",
    "*https://fr.wikipedia.org/wiki/Typage_fort*\n",
    "*https://www.journaldunet.fr/web-tech/dictionnaire-du-webmastering/1445304-python-definition-et-utilisation-de-ce-langage-informatique/#python-definition*\n",
    "*https://fr.wikipedia.org/wiki/Zen_de_Python*\n",
    "     \n",
    "     "
   ]
  },
  {
   "cell_type": "markdown",
   "metadata": {},
   "source": [
    "# Livrables\n",
    "\n",
    "## Pousser votre fichier Jupyter sur la page Organisation GitHub «Simplon Dev-Data Nantes» et dans le projet Python Jupyter (https://github.com/simplon-dev-data-nantes-2020/python-jupyter)\n"
   ]
  },
  {
   "cell_type": "code",
   "execution_count": null,
   "metadata": {},
   "outputs": [],
   "source": []
  }
 ],
 "metadata": {
  "celltoolbar": "Format de la Cellule Texte Brut",
  "kernelspec": {
   "display_name": "Python 3",
   "language": "python",
   "name": "python3"
  },
  "language_info": {
   "codemirror_mode": {
    "name": "ipython",
    "version": 3
   },
   "file_extension": ".py",
   "mimetype": "text/x-python",
   "name": "python",
   "nbconvert_exporter": "python",
   "pygments_lexer": "ipython3",
   "version": "3.8.6"
  }
 },
 "nbformat": 4,
 "nbformat_minor": 4
}
